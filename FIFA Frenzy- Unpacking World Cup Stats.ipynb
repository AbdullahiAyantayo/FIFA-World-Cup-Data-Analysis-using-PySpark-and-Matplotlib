{
 "cells": [
  {
   "cell_type": "code",
   "execution_count": 1,
   "id": "e01d6285",
   "metadata": {},
   "outputs": [
    {
     "name": "stdout",
     "output_type": "stream",
     "text": [
      "Requirement already satisfied: pyspark in c:\\users\\ayant\\anaconda3\\lib\\site-packages (3.4.1)\n",
      "Requirement already satisfied: py4j==0.10.9.7 in c:\\users\\ayant\\anaconda3\\lib\\site-packages (from pyspark) (0.10.9.7)\n",
      "Note: you may need to restart the kernel to use updated packages.\n"
     ]
    }
   ],
   "source": [
    "pip install pyspark"
   ]
  },
  {
   "cell_type": "code",
   "execution_count": 2,
   "id": "8989974d",
   "metadata": {},
   "outputs": [],
   "source": [
    "import pyspark"
   ]
  },
  {
   "cell_type": "code",
   "execution_count": 3,
   "id": "447c7760",
   "metadata": {},
   "outputs": [],
   "source": [
    "from pyspark.sql import SparkSession"
   ]
  },
  {
   "cell_type": "code",
   "execution_count": 4,
   "id": "6f4d66cf",
   "metadata": {},
   "outputs": [],
   "source": [
    "from pyspark.sql import functions as F"
   ]
  },
  {
   "cell_type": "code",
   "execution_count": 5,
   "id": "9c582c7c",
   "metadata": {},
   "outputs": [],
   "source": [
    "import matplotlib.pyplot as plt"
   ]
  },
  {
   "cell_type": "code",
   "execution_count": 6,
   "id": "85e0263f",
   "metadata": {},
   "outputs": [],
   "source": [
    "import pandas as pd"
   ]
  },
  {
   "cell_type": "code",
   "execution_count": 7,
   "id": "bd1c468a",
   "metadata": {},
   "outputs": [],
   "source": [
    "import numpy as np"
   ]
  },
  {
   "cell_type": "code",
   "execution_count": 8,
   "id": "c48c3d9e",
   "metadata": {},
   "outputs": [],
   "source": [
    "spark = SparkSession.builder.getOrCreate()"
   ]
  },
  {
   "cell_type": "code",
   "execution_count": 9,
   "id": "9dae7299",
   "metadata": {},
   "outputs": [],
   "source": [
    "WorldCup = spark.read.csv(\"C:\\\\Users\\\\ayant\\\\Downloads\\\\WorldCupData\\\\WorldCups.csv\", header= True)"
   ]
  },
  {
   "cell_type": "code",
   "execution_count": 10,
   "id": "77285611",
   "metadata": {},
   "outputs": [
    {
     "name": "stdout",
     "output_type": "stream",
     "text": [
      "+----+------------+----------+--------------+-----------+--------------+-----------+--------------+-------------+----------+\n",
      "|Year|     Country|    Winner|    Runners-Up|      Third|        Fourth|GoalsScored|QualifiedTeams|MatchesPlayed|Attendance|\n",
      "+----+------------+----------+--------------+-----------+--------------+-----------+--------------+-------------+----------+\n",
      "|1930|     Uruguay|   Uruguay|     Argentina|        USA|    Yugoslavia|         70|            13|           18|   590.549|\n",
      "|1934|       Italy|     Italy|Czechoslovakia|    Germany|       Austria|         70|            16|           17|   363.000|\n",
      "|1938|      France|     Italy|       Hungary|     Brazil|        Sweden|         84|            15|           18|   375.700|\n",
      "|1950|      Brazil|   Uruguay|        Brazil|     Sweden|         Spain|         88|            13|           22| 1.045.246|\n",
      "|1954| Switzerland|Germany FR|       Hungary|    Austria|       Uruguay|        140|            16|           26|   768.607|\n",
      "|1958|      Sweden|    Brazil|        Sweden|     France|    Germany FR|        126|            16|           35|   819.810|\n",
      "|1962|       Chile|    Brazil|Czechoslovakia|      Chile|    Yugoslavia|         89|            16|           32|   893.172|\n",
      "|1966|     England|   England|    Germany FR|   Portugal|  Soviet Union|         89|            16|           32| 1.563.135|\n",
      "|1970|      Mexico|    Brazil|         Italy| Germany FR|       Uruguay|         95|            16|           32| 1.603.975|\n",
      "|1974|     Germany|Germany FR|   Netherlands|     Poland|        Brazil|         97|            16|           38| 1.865.753|\n",
      "|1978|   Argentina| Argentina|   Netherlands|     Brazil|         Italy|        102|            16|           38| 1.545.791|\n",
      "|1982|       Spain|     Italy|    Germany FR|     Poland|        France|        146|            24|           52| 2.109.723|\n",
      "|1986|      Mexico| Argentina|    Germany FR|     France|       Belgium|        132|            24|           52| 2.394.031|\n",
      "|1990|       Italy|Germany FR|     Argentina|      Italy|       England|        115|            24|           52| 2.516.215|\n",
      "|1994|         USA|    Brazil|         Italy|     Sweden|      Bulgaria|        141|            24|           52| 3.587.538|\n",
      "|1998|      France|    France|        Brazil|    Croatia|   Netherlands|        171|            32|           64| 2.785.100|\n",
      "|2002| Korea/Japan|    Brazil|       Germany|     Turkey|Korea Republic|        161|            32|           64| 2.705.197|\n",
      "|2006|     Germany|     Italy|        France|    Germany|      Portugal|        147|            32|           64| 3.359.439|\n",
      "|2010|South Africa|     Spain|   Netherlands|    Germany|       Uruguay|        145|            32|           64| 3.178.856|\n",
      "|2014|      Brazil|   Germany|     Argentina|Netherlands|        Brazil|        171|            32|           64| 3.386.810|\n",
      "+----+------------+----------+--------------+-----------+--------------+-----------+--------------+-------------+----------+\n",
      "\n"
     ]
    }
   ],
   "source": [
    "WorldCup.show()"
   ]
  },
  {
   "cell_type": "code",
   "execution_count": 11,
   "id": "2ba1bc36",
   "metadata": {},
   "outputs": [
    {
     "name": "stdout",
     "output_type": "stream",
     "text": [
      "root\n",
      " |-- Year: string (nullable = true)\n",
      " |-- Country: string (nullable = true)\n",
      " |-- Winner: string (nullable = true)\n",
      " |-- Runners-Up: string (nullable = true)\n",
      " |-- Third: string (nullable = true)\n",
      " |-- Fourth: string (nullable = true)\n",
      " |-- GoalsScored: string (nullable = true)\n",
      " |-- QualifiedTeams: string (nullable = true)\n",
      " |-- MatchesPlayed: string (nullable = true)\n",
      " |-- Attendance: string (nullable = true)\n",
      "\n"
     ]
    }
   ],
   "source": [
    "WorldCup.printSchema()"
   ]
  },
  {
   "cell_type": "code",
   "execution_count": 12,
   "id": "a8bfddce",
   "metadata": {},
   "outputs": [
    {
     "name": "stdout",
     "output_type": "stream",
     "text": [
      "+-------+------------------+---------+---------+----------+-------+----------+-----------------+-----------------+------------------+------------------+\n",
      "|summary|Year              |Country  |Winner   |Runners-Up|Third  |Fourth    |GoalsScored      |QualifiedTeams   |MatchesPlayed     |Attendance        |\n",
      "+-------+------------------+---------+---------+----------+-------+----------+-----------------+-----------------+------------------+------------------+\n",
      "|count  |20                |20       |20       |20        |20     |20        |20               |20               |20                |20                |\n",
      "|mean   |1974.8            |null     |null     |null      |null   |null      |118.95           |21.25            |41.8              |635.1396666666666 |\n",
      "|stddev |25.582889018371656|null     |null     |null      |null   |null      |32.97283570966928|7.268352452132539|17.218716866431013|228.84694120452357|\n",
      "|min    |1930              |Argentina|Argentina|Argentina |Austria|Austria   |102              |13               |17                |1.045.246         |\n",
      "|max    |2014              |Uruguay  |Uruguay  |Sweden    |USA    |Yugoslavia|97               |32               |64                |893.172           |\n",
      "+-------+------------------+---------+---------+----------+-------+----------+-----------------+-----------------+------------------+------------------+\n",
      "\n"
     ]
    }
   ],
   "source": [
    "WorldCup.describe().show(truncate=False)"
   ]
  },
  {
   "cell_type": "code",
   "execution_count": 13,
   "id": "47f9a4a3",
   "metadata": {},
   "outputs": [
    {
     "name": "stdout",
     "output_type": "stream",
     "text": [
      "(20, 10)\n"
     ]
    }
   ],
   "source": [
    "print((WorldCup.count(), len(WorldCup.columns)))"
   ]
  },
  {
   "cell_type": "code",
   "execution_count": 14,
   "id": "5817ef95",
   "metadata": {},
   "outputs": [
    {
     "name": "stdout",
     "output_type": "stream",
     "text": [
      "+----+------------+----------+--------------+-----------+--------------+-----------+--------------+-------------+----------+\n",
      "|Year|     Country|    Winner|    Runners-Up|      Third|        Fourth|GoalsScored|QualifiedTeams|MatchesPlayed|Attendance|\n",
      "+----+------------+----------+--------------+-----------+--------------+-----------+--------------+-------------+----------+\n",
      "|1930|     Uruguay|   Uruguay|     Argentina|        USA|    Yugoslavia|         70|            13|           18|   590.549|\n",
      "|1934|       Italy|     Italy|Czechoslovakia|    Germany|       Austria|         70|            16|           17|   363.000|\n",
      "|1938|      France|     Italy|       Hungary|     Brazil|        Sweden|         84|            15|           18|   375.700|\n",
      "|1950|      Brazil|   Uruguay|        Brazil|     Sweden|         Spain|         88|            13|           22| 1.045.246|\n",
      "|1954| Switzerland|Germany FR|       Hungary|    Austria|       Uruguay|        140|            16|           26|   768.607|\n",
      "|1958|      Sweden|    Brazil|        Sweden|     France|    Germany FR|        126|            16|           35|   819.810|\n",
      "|1962|       Chile|    Brazil|Czechoslovakia|      Chile|    Yugoslavia|         89|            16|           32|   893.172|\n",
      "|1966|     England|   England|    Germany FR|   Portugal|  Soviet Union|         89|            16|           32| 1.563.135|\n",
      "|1970|      Mexico|    Brazil|         Italy| Germany FR|       Uruguay|         95|            16|           32| 1.603.975|\n",
      "|1974|     Germany|Germany FR|   Netherlands|     Poland|        Brazil|         97|            16|           38| 1.865.753|\n",
      "|1978|   Argentina| Argentina|   Netherlands|     Brazil|         Italy|        102|            16|           38| 1.545.791|\n",
      "|1982|       Spain|     Italy|    Germany FR|     Poland|        France|        146|            24|           52| 2.109.723|\n",
      "|1986|      Mexico| Argentina|    Germany FR|     France|       Belgium|        132|            24|           52| 2.394.031|\n",
      "|1990|       Italy|Germany FR|     Argentina|      Italy|       England|        115|            24|           52| 2.516.215|\n",
      "|1994|         USA|    Brazil|         Italy|     Sweden|      Bulgaria|        141|            24|           52| 3.587.538|\n",
      "|1998|      France|    France|        Brazil|    Croatia|   Netherlands|        171|            32|           64| 2.785.100|\n",
      "|2002| Korea/Japan|    Brazil|       Germany|     Turkey|Korea Republic|        161|            32|           64| 2.705.197|\n",
      "|2006|     Germany|     Italy|        France|    Germany|      Portugal|        147|            32|           64| 3.359.439|\n",
      "|2010|South Africa|     Spain|   Netherlands|    Germany|       Uruguay|        145|            32|           64| 3.178.856|\n",
      "|2014|      Brazil|   Germany|     Argentina|Netherlands|        Brazil|        171|            32|           64| 3.386.810|\n",
      "+----+------------+----------+--------------+-----------+--------------+-----------+--------------+-------------+----------+\n",
      "\n"
     ]
    }
   ],
   "source": [
    "WorldCup.show()"
   ]
  },
  {
   "cell_type": "code",
   "execution_count": 15,
   "id": "e2958679",
   "metadata": {},
   "outputs": [
    {
     "name": "stdout",
     "output_type": "stream",
     "text": [
      "+----+------------+----------+--------------+-----------+--------------+-----------+--------------+-------------+----------+\n",
      "|Year|     Country|    Winner|    Runners-Up|      Third|        Fourth|GoalsScored|QualifiedTeams|MatchesPlayed|Attendance|\n",
      "+----+------------+----------+--------------+-----------+--------------+-----------+--------------+-------------+----------+\n",
      "|1930|     Uruguay|   Uruguay|     Argentina|        USA|    Yugoslavia|         70|            13|           18|    590549|\n",
      "|1934|       Italy|     Italy|Czechoslovakia|    Germany|       Austria|         70|            16|           17|    363000|\n",
      "|1938|      France|     Italy|       Hungary|     Brazil|        Sweden|         84|            15|           18|    375700|\n",
      "|1950|      Brazil|   Uruguay|        Brazil|     Sweden|         Spain|         88|            13|           22|   1045246|\n",
      "|1954| Switzerland|Germany FR|       Hungary|    Austria|       Uruguay|        140|            16|           26|    768607|\n",
      "|1958|      Sweden|    Brazil|        Sweden|     France|    Germany FR|        126|            16|           35|    819810|\n",
      "|1962|       Chile|    Brazil|Czechoslovakia|      Chile|    Yugoslavia|         89|            16|           32|    893172|\n",
      "|1966|     England|   England|    Germany FR|   Portugal|  Soviet Union|         89|            16|           32|   1563135|\n",
      "|1970|      Mexico|    Brazil|         Italy| Germany FR|       Uruguay|         95|            16|           32|   1603975|\n",
      "|1974|     Germany|Germany FR|   Netherlands|     Poland|        Brazil|         97|            16|           38|   1865753|\n",
      "|1978|   Argentina| Argentina|   Netherlands|     Brazil|         Italy|        102|            16|           38|   1545791|\n",
      "|1982|       Spain|     Italy|    Germany FR|     Poland|        France|        146|            24|           52|   2109723|\n",
      "|1986|      Mexico| Argentina|    Germany FR|     France|       Belgium|        132|            24|           52|   2394031|\n",
      "|1990|       Italy|Germany FR|     Argentina|      Italy|       England|        115|            24|           52|   2516215|\n",
      "|1994|         USA|    Brazil|         Italy|     Sweden|      Bulgaria|        141|            24|           52|   3587538|\n",
      "|1998|      France|    France|        Brazil|    Croatia|   Netherlands|        171|            32|           64|   2785100|\n",
      "|2002| Korea/Japan|    Brazil|       Germany|     Turkey|Korea Republic|        161|            32|           64|   2705197|\n",
      "|2006|     Germany|     Italy|        France|    Germany|      Portugal|        147|            32|           64|   3359439|\n",
      "|2010|South Africa|     Spain|   Netherlands|    Germany|       Uruguay|        145|            32|           64|   3178856|\n",
      "|2014|      Brazil|   Germany|     Argentina|Netherlands|        Brazil|        171|            32|           64|   3386810|\n",
      "+----+------------+----------+--------------+-----------+--------------+-----------+--------------+-------------+----------+\n",
      "\n"
     ]
    }
   ],
   "source": [
    "WorldCup.withColumn(\"Attendance\", F.expr(\"replace(Attendance, '.', '')\")).show()"
   ]
  },
  {
   "cell_type": "code",
   "execution_count": 16,
   "id": "7a47211e",
   "metadata": {},
   "outputs": [],
   "source": [
    "WorldCup_new = WorldCup.withColumn(\"Attendance\", F.expr(\"replace(Attendance, '.', '')\"))"
   ]
  },
  {
   "cell_type": "code",
   "execution_count": 17,
   "id": "9fc7a07c",
   "metadata": {},
   "outputs": [
    {
     "name": "stdout",
     "output_type": "stream",
     "text": [
      "+-------+-----------------+\n",
      "|summary|       Attendance|\n",
      "+-------+-----------------+\n",
      "|  count|               20|\n",
      "|   mean|       1872882.35|\n",
      "| stddev|1071842.147757641|\n",
      "|    min|          1045246|\n",
      "|    max|           893172|\n",
      "+-------+-----------------+\n",
      "\n"
     ]
    }
   ],
   "source": [
    "WorldCup_new.describe([\"Attendance\"]).show()"
   ]
  },
  {
   "cell_type": "code",
   "execution_count": 18,
   "id": "79f261c4",
   "metadata": {},
   "outputs": [
    {
     "name": "stdout",
     "output_type": "stream",
     "text": [
      "+----+------------+----------+--------------+-----------+--------------+-----------+--------------+-------------+----------+\n",
      "|Year|     Country|    Winner|    Runners-Up|      Third|        Fourth|GoalsScored|QualifiedTeams|MatchesPlayed|Attendance|\n",
      "+----+------------+----------+--------------+-----------+--------------+-----------+--------------+-------------+----------+\n",
      "|1930|     Uruguay|   Uruguay|     Argentina|        USA|    Yugoslavia|         70|            13|           18|    590549|\n",
      "|1934|       Italy|     Italy|Czechoslovakia|    Germany|       Austria|         70|            16|           17|    363000|\n",
      "|1938|      France|     Italy|       Hungary|     Brazil|        Sweden|         84|            15|           18|    375700|\n",
      "|1950|      Brazil|   Uruguay|        Brazil|     Sweden|         Spain|         88|            13|           22|   1045246|\n",
      "|1954| Switzerland|Germany FR|       Hungary|    Austria|       Uruguay|        140|            16|           26|    768607|\n",
      "|1958|      Sweden|    Brazil|        Sweden|     France|    Germany FR|        126|            16|           35|    819810|\n",
      "|1962|       Chile|    Brazil|Czechoslovakia|      Chile|    Yugoslavia|         89|            16|           32|    893172|\n",
      "|1966|     England|   England|    Germany FR|   Portugal|  Soviet Union|         89|            16|           32|   1563135|\n",
      "|1970|      Mexico|    Brazil|         Italy| Germany FR|       Uruguay|         95|            16|           32|   1603975|\n",
      "|1974|     Germany|Germany FR|   Netherlands|     Poland|        Brazil|         97|            16|           38|   1865753|\n",
      "|1978|   Argentina| Argentina|   Netherlands|     Brazil|         Italy|        102|            16|           38|   1545791|\n",
      "|1982|       Spain|     Italy|    Germany FR|     Poland|        France|        146|            24|           52|   2109723|\n",
      "|1986|      Mexico| Argentina|    Germany FR|     France|       Belgium|        132|            24|           52|   2394031|\n",
      "|1990|       Italy|Germany FR|     Argentina|      Italy|       England|        115|            24|           52|   2516215|\n",
      "|1994|         USA|    Brazil|         Italy|     Sweden|      Bulgaria|        141|            24|           52|   3587538|\n",
      "|1998|      France|    France|        Brazil|    Croatia|   Netherlands|        171|            32|           64|   2785100|\n",
      "|2002| Korea/Japan|    Brazil|       Germany|     Turkey|Korea Republic|        161|            32|           64|   2705197|\n",
      "|2006|     Germany|     Italy|        France|    Germany|      Portugal|        147|            32|           64|   3359439|\n",
      "|2010|South Africa|     Spain|   Netherlands|    Germany|       Uruguay|        145|            32|           64|   3178856|\n",
      "|2014|      Brazil|   Germany|     Argentina|Netherlands|        Brazil|        171|            32|           64|   3386810|\n",
      "+----+------------+----------+--------------+-----------+--------------+-----------+--------------+-------------+----------+\n",
      "\n"
     ]
    }
   ],
   "source": [
    "WorldCup_new.show()"
   ]
  },
  {
   "cell_type": "code",
   "execution_count": 21,
   "id": "4898bb0b",
   "metadata": {},
   "outputs": [],
   "source": [
    "WorldCup_new.createOrReplaceTempView(\"WorldCup\")\n",
    "\n",
    "max_attendance_query = \"\"\"\n",
    "SELECT Year, MAX(CAST(Attendance AS INT)) AS max_attendance\n",
    "FROM WorldCup\n",
    "GROUP BY Year\n",
    "ORDER BY max_attendance DESC\n",
    "LIMIT 1\n",
    "\"\"\"\n",
    "\n",
    "max_attendance = spark.sql(max_attendance_query)\n"
   ]
  },
  {
   "cell_type": "code",
   "execution_count": 22,
   "id": "15610f91",
   "metadata": {},
   "outputs": [
    {
     "name": "stdout",
     "output_type": "stream",
     "text": [
      "+----+--------------+\n",
      "|Year|max_attendance|\n",
      "+----+--------------+\n",
      "|1994|       3587538|\n",
      "+----+--------------+\n",
      "\n"
     ]
    }
   ],
   "source": [
    "max_attendance.show()"
   ]
  },
  {
   "cell_type": "code",
   "execution_count": 23,
   "id": "cc75721c",
   "metadata": {},
   "outputs": [
    {
     "data": {
      "image/png": "[encoded data removed]",
      "text/plain": [
       "<Figure size 640x480 with 1 Axes>"
      ]
     },
     "metadata": {},
     "output_type": "display_data"
    }
   ],
   "source": [
    "pandas_WorldCup = WorldCup_new.select(\"Year\", \"Attendance\").toPandas()\n",
    "\n",
    "years = pandas_WorldCup[\"Year\"]\n",
    "attendance = pandas_WorldCup[\"Attendance\"]\n",
    "\n",
    "plt.plot(years, attendance, marker='o', linestyle='-') \n",
    "    \n",
    "# function to show the plot \n",
    "plt.show() "
   ]
  },
  {
   "cell_type": "code",
   "execution_count": 25,
   "id": "f3e45e5d",
   "metadata": {},
   "outputs": [],
   "source": [
    "min_attendance_query = \"\"\"\n",
    "SELECT Year, MIN(CAST(Attendance AS INT)) AS min_attendance\n",
    "FROM WorldCup\n",
    "GROUP BY Year\n",
    "ORDER BY min_attendance ASC\n",
    "LIMIT 1\n",
    "\"\"\"\n",
    "\n",
    "min_attendance = spark.sql(min_attendance_query)\n"
   ]
  },
  {
   "cell_type": "code",
   "execution_count": 26,
   "id": "89beb9ce",
   "metadata": {},
   "outputs": [
    {
     "name": "stdout",
     "output_type": "stream",
     "text": [
      "+----+--------------+\n",
      "|Year|min_attendance|\n",
      "+----+--------------+\n",
      "|1934|        363000|\n",
      "+----+--------------+\n",
      "\n"
     ]
    }
   ],
   "source": [
    "min_attendance.show()"
   ]
  },
  {
   "cell_type": "code",
   "execution_count": 28,
   "id": "dae46a11",
   "metadata": {},
   "outputs": [],
   "source": [
    "most_goals_scored = \"\"\"\n",
    "SELECT Country, MAX(CAST(GoalsScored AS INT)) AS most_goals\n",
    "FROM WorldCup\n",
    "GROUP BY Country\n",
    "ORDER BY most_goals DESC\n",
    "LIMIT 1\n",
    "\"\"\"\n",
    "\n",
    "most_goals = spark.sql(most_goals_scored)"
   ]
  },
  {
   "cell_type": "code",
   "execution_count": 29,
   "id": "453b9621",
   "metadata": {},
   "outputs": [
    {
     "name": "stdout",
     "output_type": "stream",
     "text": [
      "+-------+----------+\n",
      "|Country|most_goals|\n",
      "+-------+----------+\n",
      "| France|       171|\n",
      "+-------+----------+\n",
      "\n"
     ]
    }
   ],
   "source": [
    "most_goals.show()"
   ]
  },
  {
   "cell_type": "code",
   "execution_count": null,
   "id": "ecdc5eae",
   "metadata": {},
   "outputs": [],
   "source": []
  }
 ],
 "metadata": {
  "kernelspec": {
   "display_name": "Python 3 (ipykernel)",
   "language": "python",
   "name": "python3"
  },
  "language_info": {
   "codemirror_mode": {
    "name": "ipython",
    "version": 3
   },
   "file_extension": ".py",
   "mimetype": "text/x-python",
   "name": "python",
   "nbconvert_exporter": "python",
   "pygments_lexer": "ipython3",
   "version": "3.11.4"
  }
 },
 "nbformat": 4,
 "nbformat_minor": 5
}
